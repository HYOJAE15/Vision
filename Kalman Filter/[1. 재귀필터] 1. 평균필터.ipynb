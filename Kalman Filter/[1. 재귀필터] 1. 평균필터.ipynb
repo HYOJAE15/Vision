{
 "cells": [
  {
   "cell_type": "markdown",
   "metadata": {},
   "source": [
    "작성일 : 2018-01-15 16:24:40 <br>\n",
    "작성자 : Gauss Kim <br>\n",
    "출처: MATLAB 활용 칼만필터의 이해 (김성필)"
   ]
  },
  {
   "cell_type": "markdown",
   "metadata": {},
   "source": [
    "# 1.1 평균의 재귀식\n",
    "\n",
    "평균은 데이터의 총합을 데이터의 개수로 나는 값을 말합니다.<br>\n",
    "예를 들어 k개의 데이터 $(x_{1}, x_{2}, ... , x_{k})$ 가 있을 때, 평균은 다음과 같습니다.<br>\n",
    "\n",
    "\\begin{equation}\n",
    "\\overline{x_{k}} = \\frac{x_{1} + x_{2} + ... + x_{k}}{k}\n",
    "\\end{equation}\n",
    "\n",
    "이렇게 데이터를 모두 모아서 한꺼번에 계산하는 식을 배치식(batch expression) 이라고 합니다. 그런데 여기에 데이터가 하나 더 추가되면 어떻게 될까요? 평균의 정의대로 계산한다면 모든 데이터를 다시 더해서 k + 1로 나눠야 합니다. 이 과정에서 앞서 계산한 평균 $\\overline{x_{k}}$은 전혀 써먹지 못합니다.<br>\n",
    "식 (1)은 <span class=\"mark\">이전 결과를 다시 활용하는 재귀식(recursive expression)이 아니기 때문</span>입니다.\n",
    "\n",
    "재귀식은 이전 결과를 재사용하기 때문에 계산 효율이 좋습니다. 데이터가 백 만개나 천 만개 정도 되면 계산량 차이는 더 극명하게 드러납니다. 메모리 저장공간의 측면에서도 재귀식이 더 유리합니다. 식(1)로 평균을 구하려면 데이터를 모두 저장하고 있어야 하지만, 재귀식에라면 이전 평균값과 추가된 데이터 그리고 데이터 개수만 저장하면 되기 때문입니다.\n",
    "\n",
    "식(1)을 재귀식으로 바꿔보겠습니다. 식(1)의 우변에 $\\overline{x}_{k-1}$이 나타나게 하는 게 목표입니다. 먼저 재귀식을 유도하는 도중에 필요한 k-1개의 평균 계산식을 사용해보겠습니다.\n",
    "\n",
    "\\begin{equation}\n",
    "\\overline{x}_{k-1} = \\frac{x_{1} + x_{2} + ... + x_{k-1}}{k-1}\n",
    "\\end{equation}\n",
    "\n",
    "이제 식(1)의 양변에 k를 곱합니다.\n",
    "\n",
    "$$ k\\overline{x}_{k} = x_{1} + x_{2} + ... + x_{k}$$\n",
    "\n",
    "이 식의 양변을 다시 k - 1로 나누면 다음과 같은 식이 됩니다.\n",
    "\n",
    "$$ \\frac{k}{k-1}\\overline{x}_{k} = \\frac{x_{1} + x_{2} + ... + x_{k}}{k-1} $$\n",
    "\n",
    "$x_{k}$만 따로 분리해서 우변을 두 개의 항으로 나눠 써보겠습니다.\n",
    "\n",
    "$$\\frac{k}{k-1}\\overline{x}_{k} = \\frac{x_{1} + x_{2} + ... + x_{k}}{k-1}  = \\frac{x_{1} + x_{2} + ... + x_{k}}{k-1} + \\frac{x_{k}}{k-1} $$\n",
    "\n",
    "그런데 우변의 첫 번째 항은 식 (2)에 소개한 $\\overline{x}_{k-1}$의 정의와 같습니다. 따라서 위의 식은 다음과 같이 바꿔 쓸 수 있습니다.\n",
    "\n",
    "$$\\frac{k}{k-1}\\overline{x}_{k} = \\overline{x}_{k-1} + \\frac{x_{k}}{k-1} $$\n",
    "\n",
    "이제 양변을 $\\frac{k}{k-1}$로 나누어 보겠습니다. 그러면 최종 식은 다음과 같습니다.\n",
    "\n",
    "\\begin{equation}\n",
    "\\overline{x}_{k} = \\frac{k-1}{k}\\overline{x}_{k-1} + \\frac{1}{k}\\overline{x}_{k}\n",
    "\\end{equation}\n",
    "\n",
    "드디어 목표대로 $\\overline{x}_{k}$의 정의에 $\\overline{x}_{k-1}$이 나타나는 재귀식을 유도해 냈습니다. 식 (3)으로 평균을 계산하면 직전 평균값($\\overline{x}_{k-1}$)과 데이터 개수(k), 그리고 새로 추가된 데이터($\\overline{x}_{k}$)만 있으면 됩니다. 예전 데이터들은 필요 없습니다. 그래서 <span class=\"mark\">평균 필터는 하나씩 차례로 입력되는 데이터의 평균을 계산할 때 유용</span>합니다.\n"
   ]
  },
  {
   "cell_type": "markdown",
   "metadata": {},
   "source": [
    "(3)식을 더 간결하게 표현해 보겠습니다. $\\alpha = \\frac{k-1}{k}$라고 정의하면 $\\alpha$와 k 사이에는 다음과 같은 관계식이 성립합니다.\n",
    "\n",
    "$$ \\alpha = \\frac{k-1}{k} = 1 - \\frac{1}{k}$$\n",
    "\n",
    "$$ ∴ \\frac{1}{k} = 1 - \\alpha$$\n",
    "\n",
    "$\\alpha$의 정의와 식을 (3)에 대입하여 정리하면 다음과 같이 더 간결한 재귀식을 얻을 수 있습니다.\n",
    "\n",
    "\\begin{equation}\n",
    "\\overline{x}_{k} = \\frac{k-1}{k}\\overline{x}{k-1} + \\frac{1}{k}x_{k} = \\alpha\\overline{x}_{k-1} + (1 - \\alpha)x_{k}\n",
    "\\end{equation}\n",
    "\n",
    "(4)식은 <span class=\"mark\">평균 필터(Averaging filter)</span> 입니다. \n",
    "\n",
    "평균 필터는 평균 계산 외에 센서 초기화에도 유용하게 쓰입니다. 디지털 체중계를 예로 보면 체중계의 무게 센서는 여러 가지 이유로 영점이 계속 바뀝니다. 따라서 전원을 켜면 처음에는 일정시간 동안 센서의 측정값을 모아서 평균을 내고, 이 값을 영점으로 잡는 초기화 작업이 필요합니다. 그런데 평균을 계싼히기 위해 초기 측정값을 모두 저장한다면 비싼 프로세서를 달아야 할 지 모릅니다."
   ]
  },
  {
   "cell_type": "code",
   "execution_count": null,
   "metadata": {
    "collapsed": true
   },
   "outputs": [],
   "source": []
  }
 ],
 "metadata": {
  "anaconda-cloud": {},
  "kernelspec": {
   "display_name": "Python [conda root]",
   "language": "python",
   "name": "conda-root-py"
  },
  "language_info": {
   "codemirror_mode": {
    "name": "ipython",
    "version": 3
   },
   "file_extension": ".py",
   "mimetype": "text/x-python",
   "name": "python",
   "nbconvert_exporter": "python",
   "pygments_lexer": "ipython3",
   "version": "3.5.2"
  },
  "latex_envs": {
   "LaTeX_envs_menu_present": true,
   "autocomplete": false,
   "bibliofile": "biblio.bib",
   "cite_by": "number",
   "current_citInitial": 1,
   "eqLabelWithNumbers": true,
   "eqNumInitial": 1,
   "hotkeys": {
    "equation": "Ctrl-E",
    "itemize": "Ctrl-I"
   },
   "labels_anchors": true,
   "latex_user_defs": false,
   "report_style_numbering": false,
   "user_envs_cfg": false
  },
  "varInspector": {
   "cols": {
    "lenName": 16,
    "lenType": 16,
    "lenVar": 40
   },
   "kernels_config": {
    "python": {
     "delete_cmd_postfix": "",
     "delete_cmd_prefix": "del ",
     "library": "var_list.py",
     "varRefreshCmd": "print(var_dic_list())"
    },
    "r": {
     "delete_cmd_postfix": ") ",
     "delete_cmd_prefix": "rm(",
     "library": "var_list.r",
     "varRefreshCmd": "cat(var_dic_list()) "
    }
   },
   "types_to_exclude": [
    "module",
    "function",
    "builtin_function_or_method",
    "instance",
    "_Feature"
   ],
   "window_display": false
  }
 },
 "nbformat": 4,
 "nbformat_minor": 1
}
