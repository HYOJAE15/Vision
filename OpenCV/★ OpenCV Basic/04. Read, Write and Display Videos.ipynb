{
 "cells": [
  {
   "cell_type": "markdown",
   "metadata": {},
   "source": [
    "## 04. Read, Write and Display Videos\n",
    "\n",
    "\n",
    "비디오는 빠르게 움직이는 이미지의 시퀀스입니다. 그래서, 다음과 같은 명백한 질문은 사진이 얼마나 빨리 움직이는 것입니까? 이미지 전환 속도는 초당 프레임 수 (fps)라는 측정 기준에 의해 측정됩니다.\n",
    "따라서 fps는 초당 표시되는 고유 한 연속 이미지 수를 측정합니다. <br>\n",
    "따라서 동영상의 fps 값이 40이라면 매초 40 개의 이미지가 표시됩니다. 또는 25 밀리 초마다 새 이미지가 로드됩니다.\n",
    "\n",
    "종종 컴퓨터 비전 분야에서 일하면서 비디오를 접하게됩니다. 이 섹션에서는 OpenCV의 비디오와 관련된 기본적인 작업, 즉 읽기 및 쓰기에 대해 설명합니다. 고맙게도 OpenCV는 이러한 작업을 수행 할 수있는 매우 간단한 인터페이스를 제공합니다."
   ]
  },
  {
   "cell_type": "markdown",
   "metadata": {},
   "source": [
    "## 1. Reading a Video\n",
    "\n",
    "OpenCV에서 컴퓨터에 연결된 카메라의 피드를 사용하거나 비디오 파일을 읽음으로써 비디오를 읽을 수 있습니다. 비디오 파일을 읽는 첫 번째 단계는 VideoCapture 객체를 만드는 것입니다.\n",
    "\n",
    "인수는 카메라 장치 또는 비디오 파일 이름이 될 수 있습니다.\n",
    "\n",
    "대부분의 경우 하나의 카메라 만 시스템에 연결됩니다. 따라서 우리가하는 일은 모두 '0'이되고 OpenCV는 컴퓨터에 연결된 유일한 카메라를 사용합니다.\n",
    "\n",
    "컴퓨터에 둘 이상의 카메라가 연결되어 있으면 '1'을 전달하여 두 번째 카메라를 선택하고 세 번째 카메라는 '2'를 전달하여 두 번째 카메라를 선택할 수 있습니다."
   ]
  },
  {
   "cell_type": "code",
   "execution_count": 110,
   "metadata": {
    "ExecuteTime": {
     "end_time": "2018-04-05T15:53:19.806467Z",
     "start_time": "2018-04-05T15:53:19.791426Z"
    }
   },
   "outputs": [],
   "source": [
    "import cv2\n",
    "\n",
    "cap = cv2.VideoCapture(\"image/road_video.mp4\")"
   ]
  },
  {
   "cell_type": "markdown",
   "metadata": {
    "ExecuteTime": {
     "end_time": "2018-04-03T22:20:47.996204Z",
     "start_time": "2018-04-03T22:20:47.993196Z"
    }
   },
   "source": [
    "VideoCapture 객체를 만든 후에는 프레임 단위로 비디오를 캡처 할 수 있습니다."
   ]
  },
  {
   "cell_type": "markdown",
   "metadata": {},
   "source": [
    "## 2. Displaying a video\n",
    "\n"
   ]
  },
  {
   "cell_type": "markdown",
   "metadata": {},
   "source": [
    "다음 코드에서는 VideoCapture 객체를 사용하여 비디오 파일을 읽고 표시합니다."
   ]
  },
  {
   "cell_type": "code",
   "execution_count": 111,
   "metadata": {
    "ExecuteTime": {
     "end_time": "2018-04-05T15:53:38.344905Z",
     "start_time": "2018-04-05T15:53:38.342902Z"
    }
   },
   "outputs": [],
   "source": [
    "# Import OpenCV and Numpy\n",
    "\n",
    "import cv2\n",
    "import numpy as np"
   ]
  },
  {
   "cell_type": "markdown",
   "metadata": {},
   "source": [
    "이 블록에서 비디오 캡처 객체를 만들고 입력 비디오 파일을 읽습니다. VideoCapture 객체를 만들고 입력 파일을 엽니다. 입력이 웹 카메라인 경우 비디오 파일 이름 대신 0을 전달합니다."
   ]
  },
  {
   "cell_type": "code",
   "execution_count": 112,
   "metadata": {
    "ExecuteTime": {
     "end_time": "2018-04-05T15:53:49.408462Z",
     "start_time": "2018-04-05T15:53:49.391413Z"
    }
   },
   "outputs": [],
   "source": [
    "cap = cv2.VideoCapture(\"image/road_video.mp4\")\n",
    "\n",
    "# Check if camera opened successfully\n",
    "if (cap.isOpened() == False):\n",
    "    print(\"Error opening video stream or file\")"
   ]
  },
  {
   "cell_type": "markdown",
   "metadata": {},
   "source": [
    "비디오가 완료되거나 ESC (ASCII 값 27)를 눌러 사용자가 종료 할 때까지 비디오 프레임을 읽고 표시하십시오."
   ]
  },
  {
   "cell_type": "code",
   "execution_count": 113,
   "metadata": {
    "ExecuteTime": {
     "end_time": "2018-04-05T15:56:30.617259Z",
     "start_time": "2018-04-05T15:56:21.319382Z"
    }
   },
   "outputs": [],
   "source": [
    "while(cap.isOpened()):\n",
    "    # Capture frame by frame\n",
    "    ret, frame = cap.read()\n",
    "    if ret == True:\n",
    "        # Display the resulting frame\n",
    "        cv2.imshow(\"Frame\", frame)\n",
    "        \n",
    "        # Press esc on keyboard to exit\n",
    "        if cv2.waitKey(25) & 0xFF == 27:\n",
    "            break\n",
    "    else:\n",
    "        break\n",
    "            \n",
    "# When everything done, release the video capture object\n",
    "cap.release()\n",
    "\n",
    "# Closes all the frames\n",
    "cv2.destroyAllWindows()"
   ]
  },
  {
   "cell_type": "markdown",
   "metadata": {},
   "source": [
    "## 3. Writing a video\n",
    "\n",
    "프레임 단위로 비디오를 캡처하고 처리 한 후에는 비디오를 저장하는 것이 좋습니다.\n",
    "\n",
    "이미지의 경우 간단히 cv2.imwrite ()를 사용하면 됩니다. 그러나 비디오의 경우 VideoWriter 객체를 생성해야합니다. 먼저 출력 파일 이름을 형식으로 지정해야합니다 (예 : output.avi). 그런 다음 FourCC 코드와 초당 프레임 수 (FPS)를 지정해야합니다. 마지막으로, 프레임 크기가 전달되어야합니다."
   ]
  },
  {
   "cell_type": "markdown",
   "metadata": {},
   "source": [
    "다음 코드에서는 VideoCapture 객체를 사용하여 비디오를 읽습니다."
   ]
  },
  {
   "cell_type": "code",
   "execution_count": 114,
   "metadata": {
    "ExecuteTime": {
     "end_time": "2018-04-05T15:58:26.229593Z",
     "start_time": "2018-04-05T15:58:25.991179Z"
    }
   },
   "outputs": [],
   "source": [
    "# Create a VideoCapture object\n",
    "\n",
    "cap = cv2.VideoCapture(0)\n",
    "\n",
    "# Check if camera opened successfully\n",
    "if cap.isOpened == False:\n",
    "    print(\"Unable to read camera feed\")"
   ]
  },
  {
   "cell_type": "markdown",
   "metadata": {},
   "source": [
    "이 코드 블록에서 시스템 의존 프레임 너비와 높이를 얻습니다.(프레임의 기본 해상도가 얻어집니다.) 기본 해상도는 시스템에 따라 다릅니다. 여기서 해상도를 float에서 integer로 변환합니다."
   ]
  },
  {
   "cell_type": "code",
   "execution_count": 115,
   "metadata": {
    "ExecuteTime": {
     "end_time": "2018-04-05T15:59:02.546227Z",
     "start_time": "2018-04-05T15:59:02.543219Z"
    }
   },
   "outputs": [],
   "source": [
    "frame_width = int(cap.get(cv2.CAP_PROP_FRAME_WIDTH))\n",
    "frame_height = int(cap.get(cv2.CAP_PROP_FRAME_HEIGHT))"
   ]
  },
  {
   "cell_type": "markdown",
   "metadata": {},
   "source": [
    "우리는 videoWriter 객체 'video'를 생성합니다. 출력 파일의 이름을 'outpy.mp4'로 지정하고 4 개의 [FourCC](https://ko.wikipedia.org/wiki/FourCC) 코드를 정의합니다. 또한 'fps'값과 시스템의 크기를 지정합니다."
   ]
  },
  {
   "cell_type": "code",
   "execution_count": 116,
   "metadata": {
    "ExecuteTime": {
     "end_time": "2018-04-05T16:00:14.656167Z",
     "start_time": "2018-04-05T16:00:14.647144Z"
    }
   },
   "outputs": [],
   "source": [
    "out = cv2.VideoWriter('outpy.mp4', cv2.VideoWriter_fourcc('M', 'P', '4', 'V'), 33, (frame_width, frame_height))\n",
    "# out = cv2.VideoWriter('outpy.avi', cv2.VideoWriter_fourcc('M', 'J', 'P', 'G'), 33, (frame_width, frame_height))"
   ]
  },
  {
   "cell_type": "code",
   "execution_count": 117,
   "metadata": {
    "ExecuteTime": {
     "end_time": "2018-04-05T16:01:23.536106Z",
     "start_time": "2018-04-05T16:01:14.862888Z"
    }
   },
   "outputs": [],
   "source": [
    "# Read and save the feed from webcam until ESC is pressed.\n",
    "while True:\n",
    "    ret, frame = cap.read()\n",
    "    if ret == True:       \n",
    "        \n",
    "        # Write the frame into the file 'outpy.avi'\n",
    "        out.write(frame)\n",
    "        \n",
    "        # Display the resulting frame\n",
    "        cv2.imshow('frame', frame)\n",
    "        \n",
    "        # Press ESC on keyboard to stop recording\n",
    "        if cv2.waitKey(1) & 0xFF == 27:\n",
    "            break\n",
    "    # Break the loop\n",
    "    else:\n",
    "        break         \n",
    "            \n",
    "\n",
    "# WHen everything done, release the video capture and video write object\n",
    "cap.release()\n",
    "out.release()\n",
    "\n",
    "# Close all the frames\n",
    "cv2.destroyAllWindows()            "
   ]
  },
  {
   "cell_type": "code",
   "execution_count": null,
   "metadata": {},
   "outputs": [],
   "source": []
  }
 ],
 "metadata": {
  "anaconda-cloud": {},
  "kernelspec": {
   "display_name": "Python [conda env:Anaconda3]",
   "language": "python",
   "name": "conda-env-Anaconda3-py"
  },
  "language_info": {
   "codemirror_mode": {
    "name": "ipython",
    "version": 3
   },
   "file_extension": ".py",
   "mimetype": "text/x-python",
   "name": "python",
   "nbconvert_exporter": "python",
   "pygments_lexer": "ipython3",
   "version": "3.5.2"
  },
  "varInspector": {
   "cols": {
    "lenName": 16,
    "lenType": 16,
    "lenVar": 40
   },
   "kernels_config": {
    "python": {
     "delete_cmd_postfix": "",
     "delete_cmd_prefix": "del ",
     "library": "var_list.py",
     "varRefreshCmd": "print(var_dic_list())"
    },
    "r": {
     "delete_cmd_postfix": ") ",
     "delete_cmd_prefix": "rm(",
     "library": "var_list.r",
     "varRefreshCmd": "cat(var_dic_list()) "
    }
   },
   "types_to_exclude": [
    "module",
    "function",
    "builtin_function_or_method",
    "instance",
    "_Feature"
   ],
   "window_display": false
  }
 },
 "nbformat": 4,
 "nbformat_minor": 1
}
