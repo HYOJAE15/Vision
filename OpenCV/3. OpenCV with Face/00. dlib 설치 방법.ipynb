{
 "cells": [
  {
   "cell_type": "markdown",
   "metadata": {},
   "source": [
    "# dlib 의 내용 및 설치 방법\n",
    "\n",
    "## - dlib 이란?\n",
    "\n",
    "Dlib은 실제 문제를 해결하기 위해 C ++로 복잡한 소프트웨어를 작성하기위한 기계 학습 알고리즘 및 도구가 들어있는 최신 C ++ 툴킷입니다. 이 제품은 로봇 공학, 임베디드 장치, 휴대 전화 및 대형 고성능 컴퓨팅 환경을 비롯한 다양한 영역의 산업계와 학계에서 사용됩니다.Dlib의 오픈 소스 라이센스는 모든 응용 프로그램에서 무료로 사용할 수 있습니다.\n",
    "\n",
    "![0](nb_images/00_dlib.png)\n",
    "\n",
    "## - dlib 설치 방법\n",
    "\n",
    "아나콘다를 이용해서 기본적으로 OpenCV를 포함해 numpy, scipy, matplotlib, scikit-learn, jupyter, ipython 설치한 환경에서 아래 2가지를 차례로 설치하면 dlib을 사용할 수 있습니다.\n",
    "\n",
    "    pip install cmake\n",
    "    pip install opencv-contrib-python dlib"
   ]
  }
 ],
 "metadata": {
  "anaconda-cloud": {},
  "kernelspec": {
   "display_name": "Python [conda env:Anaconda3]",
   "language": "python",
   "name": "conda-env-Anaconda3-py"
  },
  "language_info": {
   "codemirror_mode": {
    "name": "ipython",
    "version": 3
   },
   "file_extension": ".py",
   "mimetype": "text/x-python",
   "name": "python",
   "nbconvert_exporter": "python",
   "pygments_lexer": "ipython3",
   "version": "3.5.2"
  },
  "varInspector": {
   "cols": {
    "lenName": 16,
    "lenType": 16,
    "lenVar": 40
   },
   "kernels_config": {
    "python": {
     "delete_cmd_postfix": "",
     "delete_cmd_prefix": "del ",
     "library": "var_list.py",
     "varRefreshCmd": "print(var_dic_list())"
    },
    "r": {
     "delete_cmd_postfix": ") ",
     "delete_cmd_prefix": "rm(",
     "library": "var_list.r",
     "varRefreshCmd": "cat(var_dic_list()) "
    }
   },
   "types_to_exclude": [
    "module",
    "function",
    "builtin_function_or_method",
    "instance",
    "_Feature"
   ],
   "window_display": false
  }
 },
 "nbformat": 4,
 "nbformat_minor": 1
}
