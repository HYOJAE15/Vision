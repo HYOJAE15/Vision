{
 "cells": [
  {
   "cell_type": "code",
   "execution_count": 1,
   "metadata": {
    "ExecuteTime": {
     "end_time": "2018-03-24T01:15:21.431871Z",
     "start_time": "2018-03-24T01:15:20.832928Z"
    }
   },
   "outputs": [
    {
     "data": {
      "text/html": [
       "\n",
       "        <iframe\n",
       "            width=\"400\"\n",
       "            height=\"300\"\n",
       "            src=\"https://www.youtube.com/embed/https://youtu.be/jwRPJttqXFA\"\n",
       "            frameborder=\"0\"\n",
       "            allowfullscreen\n",
       "        ></iframe>\n",
       "        "
      ],
      "text/plain": [
       "<IPython.lib.display.YouTubeVideo at 0x1bdbb5536d8>"
      ]
     },
     "execution_count": 1,
     "metadata": {},
     "output_type": "execute_result"
    }
   ],
   "source": [
    "from IPython.display import YouTubeVideo\n",
    "YouTubeVideo('https://youtu.be/jwRPJttqXFA')"
   ]
  },
  {
   "cell_type": "markdown",
   "metadata": {},
   "source": [
    "## 01. 사진은 무엇이고 카메라는 사진을 어떻게 촬영 할까요?"
   ]
  },
  {
   "cell_type": "markdown",
   "metadata": {},
   "source": [
    "## 사진(Photo)이란 무엇일까?\n",
    "사진은 단순히 물체가 반사하여 카메라로 촬영 한 것입니다.<br>\n",
    "그레이 스케일 카메라는 반사광의 강도를 저장합니다.<br>\n",
    "컬러 카메라는 빨강 (650 nm), 녹색 (510 nm) 및 파랑 (475 nm)과 같이 가시 스펙트럼(Visible Spectrum)의 세 지점에서 반사 된 빛을 기록합니다.\n",
    "\n",
    "## Color는 어떻게 Digital Camera에 저장될까?\n",
    "\n",
    "디지털 카메라 내부에는 가시 광선(광자 : Photon)에 민감한 센서가 있습니다. 센서는 사각형 모양의 격자에 배열된 많은 Photo site 또는 Pixel을 가지고 있습니다. 이 Photo site는 받는 빛의 양에 직접 비례하는 [전하(electrical charge)](https://ko.wikipedia.org/wiki/%EC%A0%84%ED%95%98)를 발생시킵니다.<br>\n",
    "Scene에 따라 센서의 다른 픽셀이 다른 양의 빛에 노출되면 전하의 패턴이 표시됩니다. 전하의 양은 0과 255 사이의 숫자로 변환됩니다. 이것은 8 비트 또는 256 값에 해당합니다.\n",
    "\n",
    "![1](image/matrix.png)\n",
    "\n",
    "0과 255 사이의 숫자로 된 직사각형 매트릭스는 디지털 그레이 스케일 이미지입니다.\n",
    "\n",
    "컬러 센서는 훨씬 더 복잡합니다. 센서의 모든 픽셀에는 적색, 녹색 또는 파란색의 단 하나의 색만 기록됩니다.\n",
    "\n",
    "![2](image/bayer pattern.png)\n",
    "\n",
    "각 픽셀에는 하나의 색만 기록 되므로 Red, Green, Blue 데이터 중 하나의 색만 기록되어야 합니다. 이 때 센서의 각 픽셀에서 기록하는 패턴이 [Bayer Pattern](https://en.wikipedia.org/wiki/Bayer_filter) 입니다. 인간의 눈은 적색 및 청색광에 비해 녹색광에 훨씬 민감하기 때문에 청색 및 적색 픽셀에 비해 두 배 많은 녹색 픽셀이 있습니다. 따라서 CMOS, CCD 이미지 센서에는 R, G, B 필터들이 일정한 패턴을 가지고 배치되는데, 인간의 시각 특성을 따라서 G가 50%, R과 B가 각각 25%가 되도록 합니다.\n",
    "\n",
    "각 픽셀은 따라서, 두 채널이 누락 됩니다. 예를 들어 픽셀의 값이 Red 이면 Green과 Blue가 누락이 됩니다.모든 픽셀에서 누락 된 두 채널은 인접 픽셀의 값을 보간하여 계산됩니다. 이 방법을 [demosaicing](https://en.wikipedia.org/wiki/Demosaicing) 이라고 합니다.\n",
    "\n",
    "[※ 참조 : 다크 프로그래머](http://darkpgmr.tistory.com/97)\n",
    "\n",
    "### 1. Pixel Doubling Interpolation <br>\n",
    "![3](image/demosaic1.png)\n",
    "\n",
    "가장 기본적인 방법으로 화질에는 크게 좋지 않은 방법입니다. \n",
    "\n",
    "### 2. Bilinear Interpolation\n",
    "\n",
    "![4](image/demosaic2.jpg)\n",
    "\n",
    "![5](image/demosaic3.png)\n",
    "\n",
    "\n",
    "## 어떻게 이미지는 저장될까?\n",
    "\n",
    "이미지가 센서에서 일단 읽혀지면 demosaic되고 일반적으로 RGB 이미지로 변환됩니다. 일반적으로이 RGB 픽셀 배열은 디스크에 저장하기 전에 JPG 또는 PNG 형식으로 압축됩니다. JPG와 같은 대부분의 이미지 형식은 두 부분으로 구성됩니다.\n",
    "\n",
    "### 1. Image Header\n",
    "\n",
    "이미지의 폭과 높이, 채널 수, 색상 프로파일, 픽셀 당 비트 수 등의 이미지 메타 데이터가 포함됩니다.\n",
    "\n",
    "### 2. Data:\n",
    "\n",
    "이 부분에는 압축 된 RGB 값이 포함됩니다.\n",
    "\n",
    "\n",
    "## OpenCV Images in Python\n",
    "\n",
    "OpenCV는 다양한 언어를 지원합니다. 대표적으로 C/C++ 과 Python이 사용됩니다.\n",
    "앞으로 다룰 언어는 Python이고 Python을 이용하면 다양한 하드웨어에서 사용가능하고 딥러닝 프레임워크와 호환성이 있습니다.\n",
    "\n",
    "C++을 사용할 때에는 Mat Class를 이용하여 이미지를 처리하지만 Python에서는 Numpy를 이용합니다. Numpy는 마치 Python의 기본 라이브러리 처럼 사용되는 대표적인 외부 라이브러리이기 때문에 친숙할 것이라 생각합니다. Numpy의 대표적인 내용은 다음 강의에서 살펴보겠습니다.\n",
    "\n",
    "Numpy에 저장되는 RGB의 데이터 구조는 사실 BGR로 저장 됩니다. 따라서 한 row를 가져와서 보면 아래와 같은 형태를 가집니다. 그 이유는 OpenCV의 초기 개발자들이 BGR 컬러 포맷을 선택한 이유는 당시 BGR 컬러 포맷이 카메라 제조사와 소프트웨어 공급 업체들 사이에서 인기가 있었기 때문입니다.\n",
    "\n",
    "![6](image/bgr.png)\n",
    "\n"
   ]
  },
  {
   "cell_type": "code",
   "execution_count": null,
   "metadata": {},
   "outputs": [],
   "source": []
  }
 ],
 "metadata": {
  "anaconda-cloud": {},
  "kernelspec": {
   "display_name": "Python [conda root]",
   "language": "python",
   "name": "conda-root-py"
  },
  "language_info": {
   "codemirror_mode": {
    "name": "ipython",
    "version": 3
   },
   "file_extension": ".py",
   "mimetype": "text/x-python",
   "name": "python",
   "nbconvert_exporter": "python",
   "pygments_lexer": "ipython3",
   "version": "3.5.2"
  },
  "varInspector": {
   "cols": {
    "lenName": 16,
    "lenType": 16,
    "lenVar": 40
   },
   "kernels_config": {
    "python": {
     "delete_cmd_postfix": "",
     "delete_cmd_prefix": "del ",
     "library": "var_list.py",
     "varRefreshCmd": "print(var_dic_list())"
    },
    "r": {
     "delete_cmd_postfix": ") ",
     "delete_cmd_prefix": "rm(",
     "library": "var_list.r",
     "varRefreshCmd": "cat(var_dic_list()) "
    }
   },
   "types_to_exclude": [
    "module",
    "function",
    "builtin_function_or_method",
    "instance",
    "_Feature"
   ],
   "window_display": false
  }
 },
 "nbformat": 4,
 "nbformat_minor": 1
}
